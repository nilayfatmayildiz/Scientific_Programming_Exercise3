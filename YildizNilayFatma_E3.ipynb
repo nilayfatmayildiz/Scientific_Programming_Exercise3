{
 "cells": [
  {
   "cell_type": "markdown",
   "id": "4aa7b545",
   "metadata": {},
   "source": [
    "# 7 File I/O\n"
   ]
  },
  {
   "cell_type": "markdown",
   "id": "ce4adaeb",
   "metadata": {},
   "source": [
    "### Exercise 7.1: Open a file"
   ]
  },
  {
   "cell_type": "code",
   "execution_count": 129,
   "id": "69cbc1a4",
   "metadata": {},
   "outputs": [
    {
     "name": "stdout",
     "output_type": "stream",
     "text": [
      "Step 1\n",
      "Preheat oven to 350 degrees F (175 degrees C). Grease and flour two nine inch round pans.\n",
      "\n",
      "Step 2\n",
      "In a large bowl, stir together the sugar, flour, cocoa, baking powder, baking soda and salt. Add the eggs, milk, oil and vanilla, mix for 2 minutes on medium speed speed of mixer. Stir in the boiling water last. Batter will be thin. Pour evenly into the prepared pans.\n",
      "\n",
      "Step 3\n",
      "Bake 30 to 35 minutes in the preheated oven, until the cake tests done with a toothpick. Cool in the pans for 10 minutes, then remove to a wire rack to cool completely.\n",
      "\n",
      "It's a universal truth that there is never a bad time for cake, no matter how may challenges or hardships a year may bring. You could even say that 2021 was a great time for cake, in spite of its difficulties. Our community members shared some especially delicious cake recipes this year, including fluffy ricotta cakes, cleverly flavored cheesecakes, and even a pistachio cake made with real pistachios. Click through to see the best new cake recipes we published this year â€” you may even be inspired to bake up one of your own. \n",
      "\n"
     ]
    }
   ],
   "source": [
    "#Write a function that opens a file (input: filename), and prints the file line by line.\n",
    "\n",
    "def openFile(filename):\n",
    "    with open(filename, 'r') as file:\n",
    "        for line in file:\n",
    "            print(line, end =\"\")\n",
    "        print (\"\\n\")\n",
    "    file.close()\n",
    "    \n",
    "openFile(\"cake_recipe.txt\")"
   ]
  },
  {
   "cell_type": "markdown",
   "id": "29925690",
   "metadata": {},
   "source": [
    "### Exercise 7.2: Wordcount"
   ]
  },
  {
   "cell_type": "code",
   "execution_count": 123,
   "id": "8dfdd123",
   "metadata": {},
   "outputs": [],
   "source": [
    "#I couldn't find William Shapespeare text so I used my text."
   ]
  },
  {
   "cell_type": "code",
   "execution_count": 130,
   "id": "34aff976",
   "metadata": {},
   "outputs": [
    {
     "name": "stdout",
     "output_type": "stream",
     "text": [
      "[('a', 8), ('the', 8), ('to', 6), ('and', 4), ('for', 4), ('in', 4), ('cake', 4), ('Step', 3), ('of', 3), ('may', 3), ('even', 3), ('degrees', 2), ('pans.', 2), ('2', 2), ('baking', 2), ('minutes', 2), ('speed', 2), ('be', 2), ('with', 2), ('that', 2)]\n"
     ]
    }
   ],
   "source": [
    "#a) Find the 20 most common words\n",
    "from collections import Counter\n",
    "\n",
    "def commonWords(filename):\n",
    "    with open(filename) as file:\n",
    "        #build a counter from each word in the file\n",
    "        count = Counter(word for line in file\n",
    "                             for word in line.split())\n",
    "    print(count.most_common(20))\n",
    "    file.close()\n",
    "    \n",
    "    \n",
    "commonWords(\"cake_recipe.txt\")"
   ]
  },
  {
   "cell_type": "code",
   "execution_count": 131,
   "id": "6f3e2ab1",
   "metadata": {},
   "outputs": [
    {
     "name": "stdout",
     "output_type": "stream",
     "text": [
      "Total Unique Words: 146\n"
     ]
    }
   ],
   "source": [
    "#b) How many unique words are used?\n",
    "\n",
    "def uniqueWords(filename):\n",
    "    count = 0\n",
    "    file = open(filename, \"r\")\n",
    "    read_data = file.read()\n",
    "    words = set(read_data.split())\n",
    "    for word in words:\n",
    "        count += 1\n",
    "\n",
    "    print('Total Unique Words:', count)\n",
    "    \n",
    "uniqueWords(\"cake_recipe.txt\")"
   ]
  },
  {
   "cell_type": "code",
   "execution_count": 132,
   "id": "394facb6",
   "metadata": {},
   "outputs": [
    {
     "data": {
      "text/plain": [
       "['to', 'a', 'the']"
      ]
     },
     "execution_count": 132,
     "metadata": {},
     "output_type": "execute_result"
    }
   ],
   "source": [
    "#c) How many words are used at least 5 times?\n",
    "\n",
    "from collections import Counter\n",
    "\n",
    "def leastFive(filename):\n",
    "    with open(filename) as file:\n",
    "        count = Counter(word for line in file\n",
    "                                 for word in line.split())\n",
    "    file.close()\n",
    "    return [i for i, j in count.items() if (j >= 5)]\n",
    "\n",
    "leastFive(\"cake_recipe.txt\")"
   ]
  },
  {
   "cell_type": "code",
   "execution_count": 133,
   "id": "6195b51d",
   "metadata": {},
   "outputs": [
    {
     "ename": "TypeError",
     "evalue": "write() argument must be str, not list",
     "output_type": "error",
     "traceback": [
      "\u001b[1;31m---------------------------------------------------------------------------\u001b[0m",
      "\u001b[1;31mTypeError\u001b[0m                                 Traceback (most recent call last)",
      "\u001b[1;32m~\\AppData\\Local\\Temp/ipykernel_24472/1761899345.py\u001b[0m in \u001b[0;36m<module>\u001b[1;34m\u001b[0m\n\u001b[0;32m     15\u001b[0m     \u001b[0mprint\u001b[0m\u001b[1;33m(\u001b[0m\u001b[0mnewFile\u001b[0m\u001b[1;33m)\u001b[0m\u001b[1;33m\u001b[0m\u001b[1;33m\u001b[0m\u001b[0m\n\u001b[0;32m     16\u001b[0m \u001b[1;33m\u001b[0m\u001b[0m\n\u001b[1;32m---> 17\u001b[1;33m \u001b[0mwriteCommonWords\u001b[0m\u001b[1;33m(\u001b[0m\u001b[1;34m\"cake_recipe.txt\"\u001b[0m\u001b[1;33m)\u001b[0m\u001b[1;33m\u001b[0m\u001b[1;33m\u001b[0m\u001b[0m\n\u001b[0m",
      "\u001b[1;32m~\\AppData\\Local\\Temp/ipykernel_24472/1761899345.py\u001b[0m in \u001b[0;36mwriteCommonWords\u001b[1;34m(filename)\u001b[0m\n\u001b[0;32m     11\u001b[0m     \u001b[1;31m#new file\u001b[0m\u001b[1;33m\u001b[0m\u001b[1;33m\u001b[0m\u001b[0m\n\u001b[0;32m     12\u001b[0m     \u001b[0mnewFile\u001b[0m \u001b[1;33m=\u001b[0m \u001b[0mopen\u001b[0m\u001b[1;33m(\u001b[0m\u001b[1;34m\"myfile.txt\"\u001b[0m\u001b[1;33m,\u001b[0m \u001b[1;34m\"w\"\u001b[0m\u001b[1;33m)\u001b[0m\u001b[1;33m\u001b[0m\u001b[1;33m\u001b[0m\u001b[0m\n\u001b[1;32m---> 13\u001b[1;33m     \u001b[0mnewFile\u001b[0m\u001b[1;33m.\u001b[0m\u001b[0mwrite\u001b[0m\u001b[1;33m(\u001b[0m\u001b[0mmostCommon\u001b[0m\u001b[1;33m)\u001b[0m\u001b[1;33m\u001b[0m\u001b[1;33m\u001b[0m\u001b[0m\n\u001b[0m\u001b[0;32m     14\u001b[0m     \u001b[0mnewFile\u001b[0m\u001b[1;33m.\u001b[0m\u001b[0mclose\u001b[0m\u001b[1;33m(\u001b[0m\u001b[1;33m)\u001b[0m\u001b[1;33m\u001b[0m\u001b[1;33m\u001b[0m\u001b[0m\n\u001b[0;32m     15\u001b[0m     \u001b[0mprint\u001b[0m\u001b[1;33m(\u001b[0m\u001b[0mnewFile\u001b[0m\u001b[1;33m)\u001b[0m\u001b[1;33m\u001b[0m\u001b[1;33m\u001b[0m\u001b[0m\n",
      "\u001b[1;31mTypeError\u001b[0m: write() argument must be str, not list"
     ]
    }
   ],
   "source": [
    "#d) Write the 200 most common words, and their counts, to a file.\n",
    "from collections import Counter\n",
    "\n",
    "def writeCommonWords(filename):\n",
    "    with open(filename) as file:\n",
    "        #build a counter from each word in the file\n",
    "        count = Counter(word for line in file\n",
    "                             for word in line.split())\n",
    "    mostCommon= count.most_common(200)\n",
    "    file.close()\n",
    "    #new file\n",
    "    newFile = open(\"myfile.txt\", \"w\")\n",
    "    newFile.write(mostCommon)\n",
    "    newFile.close()\n",
    "    print(newFile)\n",
    "    \n",
    "writeCommonWords(\"cake_recipe.txt\")"
   ]
  },
  {
   "cell_type": "markdown",
   "id": "0ad636da",
   "metadata": {},
   "source": [
    "### Exercise 7.4: Sum of lists"
   ]
  },
  {
   "cell_type": "code",
   "execution_count": 28,
   "id": "5d5c0359",
   "metadata": {},
   "outputs": [],
   "source": [
    "#a) Data generation\n",
    "import random\n",
    "def generate_data(n, a, b, filename):\n",
    "    random_list = []\n",
    "    with open(filename, 'w') as w:\n",
    "        while (n>0):\n",
    "            if (a > b):\n",
    "                random_number = random.rand_int(b, a)\n",
    "                random_list.append(random_number)\n",
    "            elif (b > a): \n",
    "                randNumber = random.rand_int(a, b)\n",
    "                random_list.append(random_number)\n",
    "            n = n - 1\n",
    "        w.write(str(random_list))\n",
    "    w.close()"
   ]
  },
  {
   "cell_type": "code",
   "execution_count": 29,
   "id": "337daad9",
   "metadata": {},
   "outputs": [],
   "source": [
    "# Reading the Data\n",
    "\n",
    "def read_data(filename):\n",
    "    doc = []\n",
    "    with open(filename, 'r') as file:\n",
    "        for line in file:\n",
    "            line = line.strip('[]')\n",
    "            doc = line.split(',')\n",
    "    file.close()\n",
    "    return document"
   ]
  },
  {
   "cell_type": "code",
   "execution_count": 30,
   "id": "2f4d1f99",
   "metadata": {},
   "outputs": [],
   "source": [
    "#Sum problem\n",
    "\n",
    "def sum_problem(file1, file2, k):\n",
    "    list1 = read_data(file1)\n",
    "    list2 = read_data(file2)\n",
    "    for item1 in list1:\n",
    "        for item2 in list2:\n",
    "            if (int(item1) + int(item2) == int(k)):\n",
    "                print(\"u: \",item1.strip(),\" / v: \", item2.strip())"
   ]
  },
  {
   "cell_type": "markdown",
   "id": "3e16b25d",
   "metadata": {},
   "source": [
    "# 8 Classes"
   ]
  },
  {
   "cell_type": "markdown",
   "id": "aa828f9c",
   "metadata": {},
   "source": [
    "### Exercise 8.1: Rational numbers"
   ]
  },
  {
   "cell_type": "code",
   "execution_count": 122,
   "id": "9e2f6c69",
   "metadata": {},
   "outputs": [
    {
     "name": "stdout",
     "output_type": "stream",
     "text": [
      "They are not equal\n",
      "3/5\n",
      "6/8\n",
      "1/6\n",
      "3/12\n"
     ]
    }
   ],
   "source": [
    "class Rational:\n",
    "    def __init__(self, nominator, denominator):\n",
    "        self.nominator = nominator\n",
    "        self.denominator = denominator\n",
    "        \n",
    "    def __str__(self):\n",
    "        return \"{}/{}\".format(self.nominator, self.denominator)\n",
    "    \n",
    "    def gcd(x, y):\n",
    "        z = x % y\n",
    "        while z:\n",
    "            x = y\n",
    "            y = z\n",
    "            z = x % y\n",
    "        return y\n",
    "    \n",
    "    def reduce(self):  \n",
    "        if self.nominator == 0 : \n",
    "            return 0\n",
    "\n",
    "        nd_gcd = gcd(self.denominator%self.nominator,self.nominator)\n",
    "        if nd_gcd == 1:\n",
    "            return self\n",
    "\n",
    "        return Rational(int(self.nominator//nd_gcd),\n",
    "                          int(self.denominator//nd_gcd))\n",
    "\n",
    "\n",
    "    \n",
    "    def __add__(self,otherfraction):\n",
    "\n",
    "        newnum = self.nominator*otherfraction.denominator + self.denominator*otherfraction.nominator\n",
    "        newden = self.denominator * otherfraction.denominator\n",
    "\n",
    "        return Rational(newnum,newden)\n",
    "    \n",
    "    def __sub__(self,otherfraction):\n",
    "\n",
    "        newnum = self.nominator*otherfraction.denominator - self.denominator*otherfraction.nominator\n",
    "        newden = self.denominator * otherfraction.denominator\n",
    "\n",
    "        return Rational(newnum,newden)\n",
    "    \n",
    "    def __mul__(self,otherfraction):\n",
    "\n",
    "        newnum = self.nominator*otherfraction.nominator\n",
    "        newden = self.denominator * otherfraction.denominator\n",
    "\n",
    "        return Rational(newnum,newden)\n",
    "    \n",
    "    def __div__(self,otherfraction):\n",
    "\n",
    "        newnum = self.nominator/otherfraction.nominator\n",
    "        newden = self.denominator / otherfraction.denominator\n",
    "\n",
    "        return Rational(newnum,newden)\n",
    "    \n",
    "    def compare(self,otherfraction):\n",
    "        if(self.nominator == otherfraction.nominator and self.denominator == otherfraction.denominator):\n",
    "            print(\"They are equal\")\n",
    "        else:\n",
    "            print(\"They are not equal\")\n",
    "           \n",
    "    a = Rational(3,5)\n",
    "    b = Rational(4,5)\n",
    "    compare(a,b)\n",
    "    \n",
    "    def __float__(self):\n",
    "        nominator = float(self.nominator)\n",
    "        denominator = float(self.denominator)\n",
    "        return \"{}/{}\".format(nominator, denominator)\n",
    "\n",
    "myf = Rational(3,5)\n",
    "print(myf)\n",
    "    \n",
    "f1=Rational(1,4)\n",
    "f2=Rational(1,2)\n",
    "f3=f1+f2\n",
    "print(f3)\n",
    "\n",
    "f1=Rational(1,2)\n",
    "f2=Rational(1,3)\n",
    "f3=f1-f2\n",
    "print(f3)\n",
    "\n",
    "f1=Rational(3,4)\n",
    "f2=Rational(1,3)\n",
    "f3=f1*f2\n",
    "print(f3)"
   ]
  }
 ],
 "metadata": {
  "kernelspec": {
   "display_name": "Python 3 (ipykernel)",
   "language": "python",
   "name": "python3"
  },
  "language_info": {
   "codemirror_mode": {
    "name": "ipython",
    "version": 3
   },
   "file_extension": ".py",
   "mimetype": "text/x-python",
   "name": "python",
   "nbconvert_exporter": "python",
   "pygments_lexer": "ipython3",
   "version": "3.9.7"
  }
 },
 "nbformat": 4,
 "nbformat_minor": 5
}
